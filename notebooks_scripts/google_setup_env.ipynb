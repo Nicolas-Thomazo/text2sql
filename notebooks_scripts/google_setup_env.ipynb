{
 "cells": [
  {
   "cell_type": "code",
   "execution_count": null,
   "id": "857bd9a3",
   "metadata": {},
   "outputs": [],
   "source": [
    "!mkdir -p ../data/raw ../data/processed ../data/interim ../data/external\n",
    "!mkdir -p ../src/text2sql/ressources"
   ]
  },
  {
   "cell_type": "code",
   "execution_count": null,
   "id": "b5b2a7ee",
   "metadata": {
    "title": "Set up environment in google jupyterhub"
   },
   "outputs": [],
   "source": [
    "!pip install -r requirements.txt -r requirements-dev.txt\n",
    "!pip install jupytext\n",
    "!pip install -e ./..\n",
    "!jupytext --set-formats ipynb,py:percent SQL_import_from_kaggle.py"
   ]
  }
 ],
 "metadata": {
  "jupytext": {
   "cell_metadata_filter": "title,-all",
   "formats": "ipynb,py:percent",
   "main_language": "python"
  },
  "language_info": {
   "name": "python"
  }
 },
 "nbformat": 4,
 "nbformat_minor": 5
}
